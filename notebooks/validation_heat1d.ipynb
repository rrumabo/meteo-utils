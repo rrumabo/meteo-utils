{
 "cells": [
  {
   "cell_type": "code",
   "execution_count": 1,
   "id": "e3464397",
   "metadata": {},
   "outputs": [
    {
     "name": "stdout",
     "output_type": "stream",
     "text": [
      "Collected (N, dx, error):\n",
      "N=  64  dx=0.015625  L2_error=0.00011226\n",
      "N= 128  dx=0.007812  L2_error=0.00002832\n",
      "N= 256  dx=0.003906  L2_error=0.00000710\n",
      "N= 512  dx=0.001953  L2_error=0.00000178\n"
     ]
    }
   ],
   "source": [
    "# ensure imports from src.* work regardless of where Jupyter launched\n",
    "import sys\n",
    "from pathlib import Path\n",
    "ROOT = Path.cwd()\n",
    "if not (ROOT / \"src\").exists():\n",
    "    ROOT = ROOT.parent\n",
    "sys.path.insert(0, str(ROOT))\n",
    "\n",
    "import json, math\n",
    "import numpy as np\n",
    "import matplotlib.pyplot as plt\n",
    "from src.runner import solve_fixed_step\n",
    "\n",
    "def periodic_laplacian_1d(u: np.ndarray, dx: float) -> np.ndarray:\n",
    "    return (np.roll(u, -1) - 2.0*u + np.roll(u, 1)) / (dx*dx)\n",
    "\n",
    "def heat_rhs(t, u, p):\n",
    "    return p[\"nu\"] * periodic_laplacian_1d(u, p[\"dx\"])\n",
    "\n",
    "def gaussian_periodic(x, x0, sigma, amp=1.0, L=1.0):\n",
    "    s = np.zeros_like(x)\n",
    "    for k in range(-2, 3):\n",
    "        s += amp * np.exp(-0.5*((x - x0 + k*L)/sigma)**2)\n",
    "    return s\n",
    "\n",
    "def analytic_heat_gaussian_periodic(x, x0, sigma0, amp, nu, t, L=1.0):\n",
    "    if t == 0.0:\n",
    "        return gaussian_periodic(x, x0, sigma0, amp, L=L)\n",
    "    sigma_t = math.sqrt(sigma0*sigma0 + 2.0*nu*t)\n",
    "    scale = amp * (sigma0 / sigma_t)\n",
    "    s = np.zeros_like(x)\n",
    "    for k in range(-2, 3):\n",
    "        s += scale * np.exp(-0.5*((x - x0 + k*L)/sigma_t)**2)\n",
    "    return s\n",
    "\n",
    "# experiment config\n",
    "L = 1.0\n",
    "nu = 1e-3\n",
    "x0 = 0.5*L\n",
    "sigma0 = 0.05*L\n",
    "amp = 1.0\n",
    "T = 0.05\n",
    "Ns = [64, 128, 256, 512]\n",
    "cfl_target = 0.4\n",
    "\n",
    "results_dir = ROOT / \"outputs\" / \"validation_heat1d\"\n",
    "results_dir.mkdir(parents=True, exist_ok=True)\n",
    "\n",
    "dxs, errs = [], []\n",
    "\n",
    "for N in Ns:\n",
    "    x = np.linspace(0.0, L, N, endpoint=False)\n",
    "    dx = L / N\n",
    "    u0 = gaussian_periodic(x, x0, sigma0, amp=amp, L=L)\n",
    "\n",
    "    dt = cfl_target * 0.5 * dx*dx / nu\n",
    "    steps = int(np.ceil(T / dt))\n",
    "    dt = T / steps\n",
    "\n",
    "    out_dir = results_dir / f\"N{N}\"\n",
    "    out_dir.mkdir(parents=True, exist_ok=True)\n",
    "\n",
    "    sol = solve_fixed_step(\n",
    "        f=heat_rhs,\n",
    "        t_span=(0.0, T),\n",
    "        y0=u0,\n",
    "        dt=dt,\n",
    "        method=\"rk4\",\n",
    "        params={\"nu\": nu, \"dx\": dx},\n",
    "        save_every=max(1, steps // 20),\n",
    "        metrics_out_dir=out_dir,\n",
    "        norm_grid=(dx, None),\n",
    "        cfl_specs={\"diff\": {\"type\": \"diffusion\", \"dt\": dt, \"dx\": dx, \"nu\": nu, \"dim\": 1}},\n",
    "    )\n",
    "\n",
    "    u_num = sol.y[-1]\n",
    "    u_ref = analytic_heat_gaussian_periodic(x, x0, sigma0, amp, nu, T, L=L)\n",
    "    err = float(np.sqrt(dx * np.sum((u_num - u_ref)**2)))\n",
    "\n",
    "    # write unified artifacts inside out_dir\n",
    "    np.savetxt(out_dir / \"u_final.csv\", u_num, delimiter=\",\")\n",
    "    np.savetxt(out_dir / \"x.csv\", x, delimiter=\",\")\n",
    "    plt.figure()\n",
    "    plt.plot(x, u0, label=\"initial\")\n",
    "    plt.plot(x, u_ref, label=\"analytic @T\")\n",
    "    plt.plot(x, u_num, \"--\", label=\"numeric @T\")\n",
    "    plt.legend(); plt.tight_layout()\n",
    "    plt.savefig(out_dir / \"u_final.png\", dpi=160)\n",
    "    plt.close()\n",
    "\n",
    "    # update metrics.json with error\n",
    "    mfile = out_dir / \"metrics.json\"\n",
    "    with mfile.open(\"r\", encoding=\"utf-8\") as f:\n",
    "        m = json.load(f)\n",
    "    m.setdefault(\"extras\", {})[\"error_L2_at_T\"] = err\n",
    "    with mfile.open(\"w\", encoding=\"utf-8\") as f:\n",
    "        json.dump(m, f, indent=2)\n",
    "\n",
    "    dxs.append(dx)\n",
    "    errs.append(err)\n",
    "\n",
    "print(\"Collected (N, dx, error):\")\n",
    "for N, dx, e in zip(Ns, dxs, errs):\n",
    "    print(f\"N={N:4d}  dx={dx:.6f}  L2_error={e:.8f}\")\n"
   ]
  },
  {
   "cell_type": "code",
   "execution_count": 2,
   "id": "93a32c4b",
   "metadata": {},
   "outputs": [
    {
     "name": "stdout",
     "output_type": "stream",
     "text": [
      "Estimated order (slope) ≈ 1.99\n"
     ]
    },
    {
     "data": {
      "image/png": "[encoded data removed]",
      "text/plain": [
       "<Figure size 640x480 with 1 Axes>"
      ]
     },
     "metadata": {},
     "output_type": "display_data"
    }
   ],
   "source": [
    "import numpy as np\n",
    "import matplotlib.pyplot as plt\n",
    "\n",
    "dxs_arr = np.array(dxs)\n",
    "errs_arr = np.array(errs)\n",
    "\n",
    "p = np.polyfit(np.log(dxs_arr), np.log(errs_arr), 1)[0]\n",
    "print(f\"Estimated order (slope) ≈ {p:.2f}\")\n",
    "\n",
    "plt.figure()\n",
    "plt.loglog(dxs_arr, errs_arr, \"o-\", label=f\"error (slope ≈ {p:.2f})\")\n",
    "plt.xlabel(\"Δx\")\n",
    "plt.ylabel(\"L2 error at T\")\n",
    "plt.grid(True, which=\"both\")\n",
    "plt.legend()\n",
    "plt.tight_layout()\n",
    "plt.savefig(results_dir / \"convergence_heat1d.png\", dpi=160)\n",
    "plt.show()\n"
   ]
  }
 ],
 "metadata": {
  "kernelspec": {
   "display_name": "Python 3",
   "language": "python",
   "name": "python3"
  },
  "language_info": {
   "codemirror_mode": {
    "name": "ipython",
    "version": 3
   },
   "file_extension": ".py",
   "mimetype": "text/x-python",
   "name": "python",
   "nbconvert_exporter": "python",
   "pygments_lexer": "ipython3",
   "version": "3.13.3"
  }
 },
 "nbformat": 4,
 "nbformat_minor": 5
}
